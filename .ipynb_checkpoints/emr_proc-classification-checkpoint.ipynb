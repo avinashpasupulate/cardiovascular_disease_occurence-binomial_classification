{
 "cells": [
  {
   "cell_type": "markdown",
   "metadata": {},
   "source": [
    "<h1 align = 'center'> Predictive Heart Disease Modelling using EMR Data</h1>"
   ]
  },
  {
   "cell_type": "markdown",
   "metadata": {},
   "source": [
    " "
   ]
  },
  {
   "cell_type": "markdown",
   "metadata": {},
   "source": [
    "<b>Avinash Pasupulate</b>\n",
    "<br><a href = mailto:avinash.pasupulate@gmail.com>avinash.pasupulate@gmail.com</a>\n",
    "<br><a href = https://www.linkedin.com/in/avinashpasupulate/>Linkedin</a>"
   ]
  },
  {
   "cell_type": "markdown",
   "metadata": {},
   "source": [
    " "
   ]
  },
  {
   "cell_type": "markdown",
   "metadata": {},
   "source": [
    "<h3>Status : </h3>\n",
    "<br><b>Pending</b>\n",
    "<ul>\n",
    "<li> Optimization & evaluation pending</li>\n",
    "<li>Feature Selection with domain research and algorithms</li>\n",
    "<li> ROC</li>\n",
    "<li> Model Explanation techniques</li>\n",
    "<li> Model Deployment</li>"
   ]
  },
  {
   "cell_type": "markdown",
   "metadata": {},
   "source": [
    " "
   ]
  },
  {
   "cell_type": "markdown",
   "metadata": {},
   "source": [
    " "
   ]
  },
  {
   "cell_type": "code",
   "execution_count": 331,
   "metadata": {},
   "outputs": [],
   "source": [
    "#importing required packages\n",
    "import re\n",
    "import os\n",
    "#import copy\n",
    "import numpy as np\n",
    "import pandas as pd\n",
    "#from tqdm import tqdm\n",
    "from sklearn.model_selection import train_test_split"
   ]
  },
  {
   "cell_type": "code",
   "execution_count": 332,
   "metadata": {},
   "outputs": [
    {
     "data": {
      "text/plain": [
       "['cleveland.data',\n",
       " 'Index.1',\n",
       " 'cleve.mod',\n",
       " 'heart-disease.expense',\n",
       " 'heart-disease.delay',\n",
       " 'bak',\n",
       " 'hungarian.data',\n",
       " 'new.data',\n",
       " 'switzerland.data',\n",
       " 'ask-detrano',\n",
       " 'heart-disease.cost',\n",
       " 'long-beach-va.data',\n",
       " 'WARNING',\n",
       " 'processed.cleveland.data',\n",
       " 'reprocessed.hungarian.data',\n",
       " 'processed.switzerland.data',\n",
       " 'heart-disease.README',\n",
       " 'heart-disease.group',\n",
       " 'Index',\n",
       " 'heart-disease.names',\n",
       " 'processed.hungarian.data',\n",
       " 'processed.va.data']"
      ]
     },
     "execution_count": 332,
     "metadata": {},
     "output_type": "execute_result"
    }
   ],
   "source": [
    "#get a list of files in the data folder\n",
    "cwd = os.getcwd()\n",
    "os.listdir(cwd+r'/data')"
   ]
  },
  {
   "cell_type": "code",
   "execution_count": 333,
   "metadata": {},
   "outputs": [
    {
     "name": "stdout",
     "output_type": "stream",
     "text": [
      "% ======================================================================\n",
      "% John Gennari\n",
      "% 3/13/90\n",
      "%\n",
      "% This is Dr. Detrano's database modified to be a real MIXED dataset.\n",
      "%\n",
      "% Attributes: 8 symbolic, 6 numeric.\n",
      "%  Age; sex; chest pain type (angina, abnang, notang, asympt)\n",
      "%  Trestbps (resting blood pres); cholesteral; fasting blood sugar < 120\n",
      "%  (true or false); resting ecg (norm, abn, hyper); max heart rate; \n",
      "%  exercise induced angina (true or false); oldpeak; slope (up, flat, down)\n",
      "%  number of vessels colored (???); thal (norm, fixed, rever). Finally, the\n",
      "%  class is either healthy (buff) or with heart-disease (sick).\n",
      "%\n",
      "% Original atts: \n",
      "%   age; sex (1,0); cp (1-4); trestbps; chol; fbs (1,0); restecg (0,1,2); \n",
      "%   thalach; exang (1,0); oldpeak; slope (1,2,3); ca; thal (3,6,7);\n",
      "%   class att: 0 is healthy, 1,2,3,4 is sick.\n",
      "% ======================================================================\n"
     ]
    }
   ],
   "source": [
    "#using the cleaveland dataset to build the model\n",
    "#reading file with data description and data\n",
    "with open(cwd+r'/data/cleve.mod', 'r') as f:\n",
    "    lines = f.readlines()\n",
    "    for line in lines:\n",
    "        if line.startswith('%'):\n",
    "            print(line.rstrip('\\n'))"
   ]
  },
  {
   "cell_type": "markdown",
   "metadata": {},
   "source": [
    "<h1>Describing Variables</h1>"
   ]
  },
  {
   "cell_type": "code",
   "execution_count": null,
   "metadata": {},
   "outputs": [],
   "source": []
  },
  {
   "cell_type": "markdown",
   "metadata": {},
   "source": [
    "<h1>Processign Raw Data</h1>"
   ]
  },
  {
   "cell_type": "code",
   "execution_count": 334,
   "metadata": {},
   "outputs": [],
   "source": [
    "#extracted data from the text file\n",
    "l = ['age sex cp trestbps chol fbs restecg thalach exang oldpeak slope ca thal target target1']\n",
    "with open(cwd+r'/data/cleve.mod', 'r') as f:\n",
    "    lines = f.readlines()\n",
    "    for line in lines:\n",
    "        if (line.startswith('%')) or (len(line)==0):\n",
    "            None\n",
    "        else:\n",
    "            l.extend([re.sub('\\s+',' ',''.join(line.rstrip('\\n')))])"
   ]
  },
  {
   "cell_type": "code",
   "execution_count": 335,
   "metadata": {},
   "outputs": [],
   "source": [
    "df = pd.DataFrame([i.split(' ') for i in l])\n",
    "df.columns = df.iloc[0]"
   ]
  },
  {
   "cell_type": "code",
   "execution_count": 336,
   "metadata": {},
   "outputs": [],
   "source": [
    "df = df.drop(df.index[0:2])\n",
    "df = df.drop(df.index[-1]).reset_index(drop = True)\n",
    "\n",
    "#dropping target1 column \n",
    "df.drop('target1', axis = 1, inplace = True)"
   ]
  },
  {
   "cell_type": "code",
   "execution_count": 337,
   "metadata": {},
   "outputs": [
    {
     "data": {
      "text/html": [
       "<div>\n",
       "<style scoped>\n",
       "    .dataframe tbody tr th:only-of-type {\n",
       "        vertical-align: middle;\n",
       "    }\n",
       "\n",
       "    .dataframe tbody tr th {\n",
       "        vertical-align: top;\n",
       "    }\n",
       "\n",
       "    .dataframe thead th {\n",
       "        text-align: right;\n",
       "    }\n",
       "</style>\n",
       "<table border=\"1\" class=\"dataframe\">\n",
       "  <thead>\n",
       "    <tr style=\"text-align: right;\">\n",
       "      <th></th>\n",
       "      <th>age</th>\n",
       "      <th>sex</th>\n",
       "      <th>cp</th>\n",
       "      <th>trestbps</th>\n",
       "      <th>chol</th>\n",
       "      <th>fbs</th>\n",
       "      <th>restecg</th>\n",
       "      <th>thalach</th>\n",
       "      <th>exang</th>\n",
       "      <th>oldpeak</th>\n",
       "      <th>slope</th>\n",
       "      <th>ca</th>\n",
       "      <th>thal</th>\n",
       "      <th>target</th>\n",
       "    </tr>\n",
       "  </thead>\n",
       "  <tbody>\n",
       "    <tr>\n",
       "      <th>0</th>\n",
       "      <td>63.0</td>\n",
       "      <td>male</td>\n",
       "      <td>angina</td>\n",
       "      <td>145.0</td>\n",
       "      <td>233.0</td>\n",
       "      <td>true</td>\n",
       "      <td>hyp</td>\n",
       "      <td>150.0</td>\n",
       "      <td>fal</td>\n",
       "      <td>2.3</td>\n",
       "      <td>down</td>\n",
       "      <td>0.0</td>\n",
       "      <td>fix</td>\n",
       "      <td>buff</td>\n",
       "    </tr>\n",
       "    <tr>\n",
       "      <th>1</th>\n",
       "      <td>67.0</td>\n",
       "      <td>male</td>\n",
       "      <td>asympt</td>\n",
       "      <td>160.0</td>\n",
       "      <td>286.0</td>\n",
       "      <td>fal</td>\n",
       "      <td>hyp</td>\n",
       "      <td>108.0</td>\n",
       "      <td>true</td>\n",
       "      <td>1.5</td>\n",
       "      <td>flat</td>\n",
       "      <td>3.0</td>\n",
       "      <td>norm</td>\n",
       "      <td>sick</td>\n",
       "    </tr>\n",
       "    <tr>\n",
       "      <th>2</th>\n",
       "      <td>67.0</td>\n",
       "      <td>male</td>\n",
       "      <td>asympt</td>\n",
       "      <td>120.0</td>\n",
       "      <td>229.0</td>\n",
       "      <td>fal</td>\n",
       "      <td>hyp</td>\n",
       "      <td>129.0</td>\n",
       "      <td>true</td>\n",
       "      <td>2.6</td>\n",
       "      <td>flat</td>\n",
       "      <td>2.0</td>\n",
       "      <td>rev</td>\n",
       "      <td>sick</td>\n",
       "    </tr>\n",
       "    <tr>\n",
       "      <th>3</th>\n",
       "      <td>37.0</td>\n",
       "      <td>male</td>\n",
       "      <td>notang</td>\n",
       "      <td>130.0</td>\n",
       "      <td>250.0</td>\n",
       "      <td>fal</td>\n",
       "      <td>norm</td>\n",
       "      <td>187.0</td>\n",
       "      <td>fal</td>\n",
       "      <td>3.5</td>\n",
       "      <td>down</td>\n",
       "      <td>0.0</td>\n",
       "      <td>norm</td>\n",
       "      <td>buff</td>\n",
       "    </tr>\n",
       "    <tr>\n",
       "      <th>4</th>\n",
       "      <td>41.0</td>\n",
       "      <td>fem</td>\n",
       "      <td>abnang</td>\n",
       "      <td>130.0</td>\n",
       "      <td>204.0</td>\n",
       "      <td>fal</td>\n",
       "      <td>hyp</td>\n",
       "      <td>172.0</td>\n",
       "      <td>fal</td>\n",
       "      <td>1.4</td>\n",
       "      <td>up</td>\n",
       "      <td>0.0</td>\n",
       "      <td>norm</td>\n",
       "      <td>buff</td>\n",
       "    </tr>\n",
       "  </tbody>\n",
       "</table>\n",
       "</div>"
      ],
      "text/plain": [
       "0   age   sex      cp trestbps   chol   fbs restecg thalach exang oldpeak  \\\n",
       "0  63.0  male  angina    145.0  233.0  true     hyp   150.0   fal     2.3   \n",
       "1  67.0  male  asympt    160.0  286.0   fal     hyp   108.0  true     1.5   \n",
       "2  67.0  male  asympt    120.0  229.0   fal     hyp   129.0  true     2.6   \n",
       "3  37.0  male  notang    130.0  250.0   fal    norm   187.0   fal     3.5   \n",
       "4  41.0   fem  abnang    130.0  204.0   fal     hyp   172.0   fal     1.4   \n",
       "\n",
       "0 slope   ca  thal target  \n",
       "0  down  0.0   fix   buff  \n",
       "1  flat  3.0  norm   sick  \n",
       "2  flat  2.0   rev   sick  \n",
       "3  down  0.0  norm   buff  \n",
       "4    up  0.0  norm   buff  "
      ]
     },
     "execution_count": 337,
     "metadata": {},
     "output_type": "execute_result"
    }
   ],
   "source": [
    "df.head()"
   ]
  },
  {
   "cell_type": "code",
   "execution_count": 338,
   "metadata": {},
   "outputs": [],
   "source": [
    "#replacing missing values with na and converting dtypes for columns\n",
    "df.replace('?', np.nan, inplace = True)\n",
    "df['age'] = df['age'].astype(float, errors = 'ignore')\n",
    "df['trestbps'] = df['trestbps'].astype(float, errors = 'ignore')\n",
    "df['chol'] = df['chol'].astype(float, errors = 'ignore')\n",
    "df['thalach'] = df['thalach'].astype(float, errors = 'ignore')\n",
    "df['oldpeak'] = df['oldpeak'].astype(float, errors = 'ignore')\n",
    "df['ca'] = df['ca'].astype(float, errors = 'ignore')\n",
    "\n",
    "df['target'] = df['target'].astype('category', errors = 'ignore')\n",
    "df['target'] = df['target'].cat.codes.astype(int)\n",
    "df['sex'] = df['sex'].astype('category', errors = 'ignore')\n",
    "df['sex'] = df['sex'].cat.codes.astype(int)\n",
    "df['fbs'] = df['fbs'].astype('category', errors = 'ignore')\n",
    "df['fbs'] = df['fbs'].cat.codes.astype(int)"
   ]
  },
  {
   "cell_type": "code",
   "execution_count": 339,
   "metadata": {},
   "outputs": [
    {
     "data": {
      "text/plain": [
       "0\n",
       "age         float64\n",
       "sex           int64\n",
       "cp           object\n",
       "trestbps    float64\n",
       "chol        float64\n",
       "fbs           int64\n",
       "restecg      object\n",
       "thalach     float64\n",
       "exang        object\n",
       "oldpeak     float64\n",
       "slope        object\n",
       "ca          float64\n",
       "thal         object\n",
       "target        int64\n",
       "dtype: object"
      ]
     },
     "execution_count": 339,
     "metadata": {},
     "output_type": "execute_result"
    }
   ],
   "source": [
    "df.dtypes"
   ]
  },
  {
   "cell_type": "markdown",
   "metadata": {},
   "source": [
    "<h2>Encoding Categorical Variables and Creating Dummy Variables</h2>"
   ]
  },
  {
   "cell_type": "code",
   "execution_count": 340,
   "metadata": {},
   "outputs": [],
   "source": [
    "#converting to dummy data\n",
    "mod_df = pd.get_dummies(df, drop_first = True)"
   ]
  },
  {
   "cell_type": "code",
   "execution_count": 341,
   "metadata": {},
   "outputs": [
    {
     "data": {
      "text/plain": [
       "Index(['age', 'sex', 'trestbps', 'chol', 'fbs', 'thalach', 'oldpeak', 'ca',\n",
       "       'target', 'cp_angina', 'cp_asympt', 'cp_notang', 'restecg_hyp',\n",
       "       'restecg_norm', 'exang_true', 'slope_flat', 'slope_up', 'thal_norm',\n",
       "       'thal_rev'],\n",
       "      dtype='object')"
      ]
     },
     "execution_count": 341,
     "metadata": {},
     "output_type": "execute_result"
    }
   ],
   "source": [
    "mod_df.columns"
   ]
  },
  {
   "cell_type": "code",
   "execution_count": 342,
   "metadata": {
    "scrolled": true
   },
   "outputs": [
    {
     "data": {
      "text/html": [
       "<div>\n",
       "<style scoped>\n",
       "    .dataframe tbody tr th:only-of-type {\n",
       "        vertical-align: middle;\n",
       "    }\n",
       "\n",
       "    .dataframe tbody tr th {\n",
       "        vertical-align: top;\n",
       "    }\n",
       "\n",
       "    .dataframe thead th {\n",
       "        text-align: right;\n",
       "    }\n",
       "</style>\n",
       "<table border=\"1\" class=\"dataframe\">\n",
       "  <thead>\n",
       "    <tr style=\"text-align: right;\">\n",
       "      <th></th>\n",
       "      <th>age</th>\n",
       "      <th>sex</th>\n",
       "      <th>trestbps</th>\n",
       "      <th>chol</th>\n",
       "      <th>fbs</th>\n",
       "      <th>thalach</th>\n",
       "      <th>oldpeak</th>\n",
       "      <th>ca</th>\n",
       "      <th>target</th>\n",
       "      <th>cp_angina</th>\n",
       "      <th>cp_asympt</th>\n",
       "      <th>cp_notang</th>\n",
       "      <th>restecg_hyp</th>\n",
       "      <th>restecg_norm</th>\n",
       "      <th>exang_true</th>\n",
       "      <th>slope_flat</th>\n",
       "      <th>slope_up</th>\n",
       "      <th>thal_norm</th>\n",
       "      <th>thal_rev</th>\n",
       "    </tr>\n",
       "  </thead>\n",
       "  <tbody>\n",
       "    <tr>\n",
       "      <th>0</th>\n",
       "      <td>63.0</td>\n",
       "      <td>1</td>\n",
       "      <td>145.0</td>\n",
       "      <td>233.0</td>\n",
       "      <td>1</td>\n",
       "      <td>150.0</td>\n",
       "      <td>2.3</td>\n",
       "      <td>0.0</td>\n",
       "      <td>0</td>\n",
       "      <td>1</td>\n",
       "      <td>0</td>\n",
       "      <td>0</td>\n",
       "      <td>1</td>\n",
       "      <td>0</td>\n",
       "      <td>0</td>\n",
       "      <td>0</td>\n",
       "      <td>0</td>\n",
       "      <td>0</td>\n",
       "      <td>0</td>\n",
       "    </tr>\n",
       "    <tr>\n",
       "      <th>1</th>\n",
       "      <td>67.0</td>\n",
       "      <td>1</td>\n",
       "      <td>160.0</td>\n",
       "      <td>286.0</td>\n",
       "      <td>0</td>\n",
       "      <td>108.0</td>\n",
       "      <td>1.5</td>\n",
       "      <td>3.0</td>\n",
       "      <td>1</td>\n",
       "      <td>0</td>\n",
       "      <td>1</td>\n",
       "      <td>0</td>\n",
       "      <td>1</td>\n",
       "      <td>0</td>\n",
       "      <td>1</td>\n",
       "      <td>1</td>\n",
       "      <td>0</td>\n",
       "      <td>1</td>\n",
       "      <td>0</td>\n",
       "    </tr>\n",
       "    <tr>\n",
       "      <th>2</th>\n",
       "      <td>67.0</td>\n",
       "      <td>1</td>\n",
       "      <td>120.0</td>\n",
       "      <td>229.0</td>\n",
       "      <td>0</td>\n",
       "      <td>129.0</td>\n",
       "      <td>2.6</td>\n",
       "      <td>2.0</td>\n",
       "      <td>1</td>\n",
       "      <td>0</td>\n",
       "      <td>1</td>\n",
       "      <td>0</td>\n",
       "      <td>1</td>\n",
       "      <td>0</td>\n",
       "      <td>1</td>\n",
       "      <td>1</td>\n",
       "      <td>0</td>\n",
       "      <td>0</td>\n",
       "      <td>1</td>\n",
       "    </tr>\n",
       "    <tr>\n",
       "      <th>3</th>\n",
       "      <td>37.0</td>\n",
       "      <td>1</td>\n",
       "      <td>130.0</td>\n",
       "      <td>250.0</td>\n",
       "      <td>0</td>\n",
       "      <td>187.0</td>\n",
       "      <td>3.5</td>\n",
       "      <td>0.0</td>\n",
       "      <td>0</td>\n",
       "      <td>0</td>\n",
       "      <td>0</td>\n",
       "      <td>1</td>\n",
       "      <td>0</td>\n",
       "      <td>1</td>\n",
       "      <td>0</td>\n",
       "      <td>0</td>\n",
       "      <td>0</td>\n",
       "      <td>1</td>\n",
       "      <td>0</td>\n",
       "    </tr>\n",
       "    <tr>\n",
       "      <th>4</th>\n",
       "      <td>41.0</td>\n",
       "      <td>0</td>\n",
       "      <td>130.0</td>\n",
       "      <td>204.0</td>\n",
       "      <td>0</td>\n",
       "      <td>172.0</td>\n",
       "      <td>1.4</td>\n",
       "      <td>0.0</td>\n",
       "      <td>0</td>\n",
       "      <td>0</td>\n",
       "      <td>0</td>\n",
       "      <td>0</td>\n",
       "      <td>1</td>\n",
       "      <td>0</td>\n",
       "      <td>0</td>\n",
       "      <td>0</td>\n",
       "      <td>1</td>\n",
       "      <td>1</td>\n",
       "      <td>0</td>\n",
       "    </tr>\n",
       "  </tbody>\n",
       "</table>\n",
       "</div>"
      ],
      "text/plain": [
       "    age  sex  trestbps   chol  fbs  thalach  oldpeak   ca  target  cp_angina  \\\n",
       "0  63.0    1     145.0  233.0    1    150.0      2.3  0.0       0          1   \n",
       "1  67.0    1     160.0  286.0    0    108.0      1.5  3.0       1          0   \n",
       "2  67.0    1     120.0  229.0    0    129.0      2.6  2.0       1          0   \n",
       "3  37.0    1     130.0  250.0    0    187.0      3.5  0.0       0          0   \n",
       "4  41.0    0     130.0  204.0    0    172.0      1.4  0.0       0          0   \n",
       "\n",
       "   cp_asympt  cp_notang  restecg_hyp  restecg_norm  exang_true  slope_flat  \\\n",
       "0          0          0            1             0           0           0   \n",
       "1          1          0            1             0           1           1   \n",
       "2          1          0            1             0           1           1   \n",
       "3          0          1            0             1           0           0   \n",
       "4          0          0            1             0           0           0   \n",
       "\n",
       "   slope_up  thal_norm  thal_rev  \n",
       "0         0          0         0  \n",
       "1         0          1         0  \n",
       "2         0          0         1  \n",
       "3         0          1         0  \n",
       "4         1          1         0  "
      ]
     },
     "execution_count": 342,
     "metadata": {},
     "output_type": "execute_result"
    }
   ],
   "source": [
    "mod_df.head()"
   ]
  },
  {
   "cell_type": "code",
   "execution_count": 343,
   "metadata": {},
   "outputs": [],
   "source": [
    "#replacing null values in the data frame\n",
    "\n",
    "mod_df.loc[(mod_df.isnull().any(axis=1))&(mod_df['target']==0), 'ca'] = round(mod_df['ca'][mod_df['target']==0].mean())\n",
    "\n",
    "mod_df.loc[(mod_df.isnull().any(axis=1))&(mod_df['target']==1), 'ca'] = round(mod_df['ca'][mod_df['target']==1].mean())\n"
   ]
  },
  {
   "cell_type": "code",
   "execution_count": 344,
   "metadata": {},
   "outputs": [
    {
     "data": {
      "text/plain": [
       "age             float64\n",
       "sex               int64\n",
       "trestbps        float64\n",
       "chol            float64\n",
       "fbs               int64\n",
       "thalach         float64\n",
       "oldpeak         float64\n",
       "ca              float64\n",
       "target            int64\n",
       "cp_angina         uint8\n",
       "cp_asympt         uint8\n",
       "cp_notang         uint8\n",
       "restecg_hyp       uint8\n",
       "restecg_norm      uint8\n",
       "exang_true        uint8\n",
       "slope_flat        uint8\n",
       "slope_up          uint8\n",
       "thal_norm         uint8\n",
       "thal_rev          uint8\n",
       "dtype: object"
      ]
     },
     "execution_count": 344,
     "metadata": {},
     "output_type": "execute_result"
    }
   ],
   "source": [
    "mod_df.dtypes"
   ]
  },
  {
   "cell_type": "markdown",
   "metadata": {},
   "source": [
    "<h2>Creating Test & Train Datasets</h2>"
   ]
  },
  {
   "cell_type": "code",
   "execution_count": 345,
   "metadata": {},
   "outputs": [],
   "source": [
    "#splitting data into train and test set with a random seed\n",
    "x_train, x_test, y_train, y_test = train_test_split(mod_df.drop('target', axis = 1),\n",
    "                                                    mod_df['target'], random_state = 28,\n",
    "                                                    test_size = 0.2)"
   ]
  },
  {
   "cell_type": "markdown",
   "metadata": {},
   "source": [
    " "
   ]
  },
  {
   "cell_type": "markdown",
   "metadata": {},
   "source": [
    "<h1>Building Classification Models</h1>"
   ]
  },
  {
   "cell_type": "markdown",
   "metadata": {},
   "source": [
    "The below listed classification methods would be used for predicting heart disease,\n",
    "\n",
    "<ul>\n",
    "    <li>Logistic Regression</li>\n",
    "    <li>Decision Tree Classifier</li>\n",
    "    <li>Random Forest Classifier</li>\n",
    "    <li>K Nearest Neighbour (KNN) Classifier</li>\n",
    "    <li>Support Vector Machine Classifier</li>\n",
    "    <li>Naïve Bayes Classifier</li>\n",
    "</ul>"
   ]
  },
  {
   "cell_type": "markdown",
   "metadata": {},
   "source": [
    " "
   ]
  },
  {
   "cell_type": "markdown",
   "metadata": {},
   "source": [
    "<h2>Logistic Regression</h2>"
   ]
  },
  {
   "cell_type": "code",
   "execution_count": 346,
   "metadata": {},
   "outputs": [],
   "source": [
    "from sklearn.linear_model import LogisticRegression"
   ]
  },
  {
   "cell_type": "code",
   "execution_count": 366,
   "metadata": {},
   "outputs": [],
   "source": [
    "log_mod = LogisticRegression(solver = 'lbfgs', max_iter=1000)"
   ]
  },
  {
   "cell_type": "code",
   "execution_count": 367,
   "metadata": {},
   "outputs": [],
   "source": [
    "log_fit = log_mod.fit(x_train, y_train)"
   ]
  },
  {
   "cell_type": "code",
   "execution_count": 386,
   "metadata": {},
   "outputs": [
    {
     "name": "stdout",
     "output_type": "stream",
     "text": [
      "Logistic Regression Accuracy : 85.25%\n"
     ]
    }
   ],
   "source": [
    "print(\"Logistic Regression Accuracy : {:.2f}%\"\n",
    "      .format(log_fit.score(x_test, y_test)*100, 1))"
   ]
  },
  {
   "cell_type": "markdown",
   "metadata": {},
   "source": [
    "<h2>Decision Tree Classifier</h2>"
   ]
  },
  {
   "cell_type": "code",
   "execution_count": 396,
   "metadata": {},
   "outputs": [],
   "source": [
    "from sklearn.tree import DecisionTreeClassifier"
   ]
  },
  {
   "cell_type": "code",
   "execution_count": 397,
   "metadata": {},
   "outputs": [],
   "source": [
    "dt_mod = DecisionTreeClassifier()"
   ]
  },
  {
   "cell_type": "code",
   "execution_count": 398,
   "metadata": {},
   "outputs": [],
   "source": [
    "dt_fit = dt_mod.fit(x_train, y_train)"
   ]
  },
  {
   "cell_type": "code",
   "execution_count": 407,
   "metadata": {},
   "outputs": [
    {
     "name": "stdout",
     "output_type": "stream",
     "text": [
      "Decision Tree Accuracy : 77.05%\n"
     ]
    }
   ],
   "source": [
    "print('Decision Tree Accuracy : {:.2f}%'\n",
    "      .format(dt_fit.score(x_test, y_test)*100))"
   ]
  },
  {
   "cell_type": "markdown",
   "metadata": {},
   "source": [
    "<h2>Random Forest Classifier</h2>"
   ]
  },
  {
   "cell_type": "code",
   "execution_count": 550,
   "metadata": {},
   "outputs": [],
   "source": [
    "from sklearn.ensemble import RandomForestClassifier"
   ]
  },
  {
   "cell_type": "code",
   "execution_count": 558,
   "metadata": {},
   "outputs": [],
   "source": [
    "rfc_mod = RandomForestClassifier(n_estimators = 1000, random_state = 28)"
   ]
  },
  {
   "cell_type": "code",
   "execution_count": 559,
   "metadata": {},
   "outputs": [],
   "source": [
    "rfc_fit = rfc_mod.fit(x_train, y_train)"
   ]
  },
  {
   "cell_type": "code",
   "execution_count": 560,
   "metadata": {},
   "outputs": [
    {
     "name": "stdout",
     "output_type": "stream",
     "text": [
      "Random Forest Classifier Accuracy : 88.52%\n"
     ]
    }
   ],
   "source": [
    "print('Random Forest Classifier Accuracy : {:.2f}%'\n",
    "      .format(rfc_fit.score(x_test, y_test)*100))"
   ]
  },
  {
   "cell_type": "markdown",
   "metadata": {},
   "source": [
    "<h2>K Nearest Neighbour (KNN) Classifier</h2>"
   ]
  },
  {
   "cell_type": "code",
   "execution_count": 468,
   "metadata": {},
   "outputs": [],
   "source": [
    "from sklearn.neighbors import KNeighborsClassifier"
   ]
  },
  {
   "cell_type": "code",
   "execution_count": 546,
   "metadata": {},
   "outputs": [
    {
     "name": "stdout",
     "output_type": "stream",
     "text": [
      "Max KNN accuracy score : 70.49% with a k of 1\n"
     ]
    }
   ],
   "source": [
    "#running knn with different k to get the best fit\n",
    "score = []\n",
    "for i in range(1,20):\n",
    "    knn_model = KNeighborsClassifier(n_neighbors=i)\n",
    "    knn_fit = knn_model.fit(x_train, y_train)\n",
    "    score.append(knn_fit.score(x_test, y_test))\n",
    "print('Max KNN accuracy score : {:.2f}% with a k of {}'.format((max(score)*100),(score.index(0.7049180327868853)+1)))"
   ]
  },
  {
   "cell_type": "markdown",
   "metadata": {},
   "source": [
    "<h2>Support Vector Machine Classifier</h2>"
   ]
  },
  {
   "cell_type": "code",
   "execution_count": 475,
   "metadata": {},
   "outputs": [],
   "source": [
    "from sklearn.svm import SVC"
   ]
  },
  {
   "cell_type": "code",
   "execution_count": 547,
   "metadata": {},
   "outputs": [],
   "source": [
    "svc_mod = SVC(gamma = 'scale')"
   ]
  },
  {
   "cell_type": "code",
   "execution_count": 548,
   "metadata": {},
   "outputs": [],
   "source": [
    "svc_fit = svc_mod.fit(x_train, y_train)"
   ]
  },
  {
   "cell_type": "code",
   "execution_count": 549,
   "metadata": {},
   "outputs": [
    {
     "name": "stdout",
     "output_type": "stream",
     "text": [
      "Support Vector Machine Classifier Accuracy : 67.21%\n"
     ]
    }
   ],
   "source": [
    "print('Support Vector Machine Classifier Accuracy : {:.2f}%'\n",
    "      .format(svc_fit.score(x_test, y_test)*100))"
   ]
  },
  {
   "cell_type": "markdown",
   "metadata": {},
   "source": [
    "<h2>Naïve Bayes Classifier</h2>"
   ]
  },
  {
   "cell_type": "code",
   "execution_count": 483,
   "metadata": {},
   "outputs": [],
   "source": [
    "from sklearn.naive_bayes import GaussianNB"
   ]
  },
  {
   "cell_type": "code",
   "execution_count": 484,
   "metadata": {},
   "outputs": [],
   "source": [
    "gnb_model = GaussianNB()"
   ]
  },
  {
   "cell_type": "code",
   "execution_count": 485,
   "metadata": {},
   "outputs": [],
   "source": [
    "gnb_fit = gnb_model.fit(x_train, y_train)"
   ]
  },
  {
   "cell_type": "code",
   "execution_count": 489,
   "metadata": {},
   "outputs": [
    {
     "name": "stdout",
     "output_type": "stream",
     "text": [
      "Naive Bayes Classifier Accuracy : 88.52%\n"
     ]
    }
   ],
   "source": [
    "print('Naive Bayes Classifier Accuracy : {:.2f}%'\n",
    "      .format(gnb_fit.score(x_test, y_test)*100))"
   ]
  },
  {
   "cell_type": "markdown",
   "metadata": {},
   "source": [
    " "
   ]
  },
  {
   "cell_type": "markdown",
   "metadata": {},
   "source": [
    "<h3>Selecting the models with the highest accuracy for further optimization,</h3>\n",
    "\n",
    "<ul>\n",
    "    <li>Random Forest Classifier  -  88.52%</li>\n",
    "    <li>Naïve Bayes Classifier    -  88.52%</li>\n",
    "    <li>Logistic Regression       -  85.25%</li>\n",
    "</ul>\n",
    "        "
   ]
  },
  {
   "cell_type": "markdown",
   "metadata": {},
   "source": [
    " "
   ]
  },
  {
   "cell_type": "markdown",
   "metadata": {},
   "source": [
    "<h1>Evaluation Metrics</h1>"
   ]
  },
  {
   "cell_type": "markdown",
   "metadata": {},
   "source": [
    "<h2>F1 Score</h2>"
   ]
  },
  {
   "cell_type": "markdown",
   "metadata": {},
   "source": [
    "Another way to calculate the accuracy score (below is not necssarily required),"
   ]
  },
  {
   "cell_type": "code",
   "execution_count": 499,
   "metadata": {},
   "outputs": [],
   "source": [
    "from sklearn.metrics import f1_score"
   ]
  },
  {
   "cell_type": "markdown",
   "metadata": {},
   "source": [
    "<h3>Random Forest Classifier </h3>"
   ]
  },
  {
   "cell_type": "code",
   "execution_count": 496,
   "metadata": {},
   "outputs": [],
   "source": [
    "rfc_pred = rfc_fit.predict(x_test)\n",
    "rfc_true = y_test"
   ]
  },
  {
   "cell_type": "code",
   "execution_count": 506,
   "metadata": {},
   "outputs": [
    {
     "data": {
      "text/plain": [
       "88.52459016393442"
      ]
     },
     "execution_count": 506,
     "metadata": {},
     "output_type": "execute_result"
    }
   ],
   "source": [
    "f1_score(rfc_true, rfc_pred, average = 'micro')*100"
   ]
  },
  {
   "cell_type": "markdown",
   "metadata": {},
   "source": [
    "<h3>Naïve Bayes Classifier</h3>"
   ]
  },
  {
   "cell_type": "code",
   "execution_count": 497,
   "metadata": {},
   "outputs": [],
   "source": [
    "gnb_pred = gnb_fit.predict(x_test)\n",
    "gnb_true = y_test"
   ]
  },
  {
   "cell_type": "code",
   "execution_count": 505,
   "metadata": {},
   "outputs": [
    {
     "data": {
      "text/plain": [
       "88.52459016393442"
      ]
     },
     "execution_count": 505,
     "metadata": {},
     "output_type": "execute_result"
    }
   ],
   "source": [
    "f1_score(gnb_true, gnb_pred, average = 'micro')*100"
   ]
  },
  {
   "cell_type": "markdown",
   "metadata": {},
   "source": [
    "<h3>Logistic Regression</h3>"
   ]
  },
  {
   "cell_type": "code",
   "execution_count": 498,
   "metadata": {},
   "outputs": [],
   "source": [
    "log_pred = log_fit.predict(x_test)\n",
    "log_true = y_test"
   ]
  },
  {
   "cell_type": "code",
   "execution_count": 504,
   "metadata": {},
   "outputs": [
    {
     "data": {
      "text/plain": [
       "85.24590163934425"
      ]
     },
     "execution_count": 504,
     "metadata": {},
     "output_type": "execute_result"
    }
   ],
   "source": [
    "f1_score(log_true, log_pred, average = 'micro')*100"
   ]
  },
  {
   "cell_type": "markdown",
   "metadata": {},
   "source": [
    "<h2>Confusion Matrix</h2>"
   ]
  },
  {
   "cell_type": "code",
   "execution_count": 511,
   "metadata": {},
   "outputs": [],
   "source": [
    "import seaborn as sns\n",
    "import matplotlib.pyplot as plt\n",
    "from sklearn.metrics import confusion_matrix"
   ]
  },
  {
   "cell_type": "markdown",
   "metadata": {},
   "source": [
    "<h3>Random Forest Classifier </h3>"
   ]
  },
  {
   "cell_type": "code",
   "execution_count": 596,
   "metadata": {},
   "outputs": [
    {
     "data": {
      "text/plain": [
       "Text(0.5, 1.0, 'Confusion Matrix - Random Forest')"
      ]
     },
     "execution_count": 596,
     "metadata": {},
     "output_type": "execute_result"
    },
    {
     "data": {
      "image/png": "[encoded data removed]",
      "text/plain": [
       "<Figure size 432x288 with 2 Axes>"
      ]
     },
     "metadata": {
      "needs_background": "light"
     },
     "output_type": "display_data"
    }
   ],
   "source": [
    "cm_rfc = confusion_matrix(rfc_true, rfc_pred)\n",
    "ax = plt.subplot()\n",
    "sns.heatmap(cm_rfc, annot = True, ax = ax)\n",
    "ax.set_xlabel('Predicted Label')\n",
    "ax.set_ylabel('True Label')\n",
    "ax.set_title('Confusion Matrix - Random Forest')"
   ]
  },
  {
   "cell_type": "code",
   "execution_count": 606,
   "metadata": {},
   "outputs": [
    {
     "name": "stdout",
     "output_type": "stream",
     "text": [
      "Sensitivity 80.77% and specificity 94.29%\n"
     ]
    }
   ],
   "source": [
    "sensitivity = (cm_rfc[1,1]/(cm_rfc[1,1]+cm_rfc[1,0]))\n",
    "specificity = (cm_rfc[0,0]/(cm_rfc[0,0]+cm_rfc[0,1]))\n",
    "print('Sensitivity {:.2f}% and specificity {:.2f}%'.format(sensitivity*100, specificity*100))\n",
    "\n"
   ]
  },
  {
   "cell_type": "markdown",
   "metadata": {},
   "source": [
    "<h3>Naïve Bayes Classifier</h3>"
   ]
  },
  {
   "cell_type": "code",
   "execution_count": 607,
   "metadata": {},
   "outputs": [
    {
     "data": {
      "text/plain": [
       "Text(33.0, 0.5, 'True Label')"
      ]
     },
     "execution_count": 607,
     "metadata": {},
     "output_type": "execute_result"
    },
    {
     "data": {
      "image/png": "[encoded data removed]",
      "text/plain": [
       "<Figure size 432x288 with 2 Axes>"
      ]
     },
     "metadata": {
      "needs_background": "light"
     },
     "output_type": "display_data"
    }
   ],
   "source": [
    "cm_gnb = confusion_matrix(gnb_true, gnb_pred)\n",
    "ax = plt.subplot()\n",
    "sns.heatmap(cm_gnb, annot = True, ax = ax)\n",
    "ax.set_title('Confusion Matrix - Naïve Bayes Classifier')\n",
    "ax.set_xlabel('Predicted Label')\n",
    "ax.set_ylabel('True Label')"
   ]
  },
  {
   "cell_type": "code",
   "execution_count": 608,
   "metadata": {},
   "outputs": [
    {
     "name": "stdout",
     "output_type": "stream",
     "text": [
      "Sensitivity 76.92% and specificity 97.14%\n"
     ]
    }
   ],
   "source": [
    "sensitivity = (cm_gnb[1,1]/(cm_gnb[1,1]+cm_gnb[1,0]))\n",
    "specificity = (cm_gnb[0,0]/(cm_gnb[0,0]+cm_gnb[0,1]))\n",
    "print('Sensitivity {:.2f}% and specificity {:.2f}%'.format(sensitivity*100, specificity*100))\n"
   ]
  },
  {
   "cell_type": "markdown",
   "metadata": {},
   "source": [
    "<h3>Logistic Regression</h3>"
   ]
  },
  {
   "cell_type": "code",
   "execution_count": 610,
   "metadata": {},
   "outputs": [
    {
     "data": {
      "text/plain": [
       "Text(0.5, 1.0, 'Confusion Matrix - Logistic Regression')"
      ]
     },
     "execution_count": 610,
     "metadata": {},
     "output_type": "execute_result"
    },
    {
     "data": {
      "image/png": "[encoded data removed]",
      "text/plain": [
       "<Figure size 432x288 with 2 Axes>"
      ]
     },
     "metadata": {
      "needs_background": "light"
     },
     "output_type": "display_data"
    }
   ],
   "source": [
    "ax = plt.subplot()\n",
    "cm_log = confusion_matrix(log_true, log_pred)\n",
    "sns.heatmap(cm_log, annot = True, ax = ax)\n",
    "ax.set_xlabel('Predicted Label')\n",
    "ax.set_ylabel('True Label')\n",
    "ax.set_title('Confusion Matrix - Logistic Regression')"
   ]
  },
  {
   "cell_type": "code",
   "execution_count": 611,
   "metadata": {},
   "outputs": [
    {
     "name": "stdout",
     "output_type": "stream",
     "text": [
      "Sensitivity 73.08% and specificity 94.29%\n"
     ]
    }
   ],
   "source": [
    "sensitivity = (cm_log[1,1]/(cm_log[1,1]+cm_log[1,0]))\n",
    "specificity = (cm_log[0,0]/(cm_log[0,0]+cm_log[0,1]))\n",
    "print('Sensitivity {:.2f}% and specificity {:.2f}%'.format(sensitivity*100, specificity*100))\n"
   ]
  },
  {
   "cell_type": "markdown",
   "metadata": {},
   "source": [
    "<h3>Choosing one of the two top performing models to optimize further,</h3>\n",
    "<ul>\n",
    "    <li>Random Forest Classifier  -  88.52%</li>\n",
    "    <li>Naïve Bayes Classifier    -  88.52%</li>\n",
    "</ul>\n",
    "Choosing <b>Random Forest Classifier</b> to proceed further with optimization and feature selection, since it has good sensitivity and specificity values"
   ]
  },
  {
   "cell_type": "code",
   "execution_count": 571,
   "metadata": {},
   "outputs": [],
   "source": [
    "#use random search and grid search cv to optimize hyperparameters\n",
    "\n",
    "rfc_mod1 = RandomForestClassifier(n_estimators=1000, random_state=28)\n",
    "rfc_fit1 = rfc_mod1.fit(x_train, y_train)\n"
   ]
  },
  {
   "cell_type": "code",
   "execution_count": 581,
   "metadata": {},
   "outputs": [],
   "source": [
    "feature = x_train.columns\n",
    "imp = rfc_mod1.feature_importances_"
   ]
  },
  {
   "cell_type": "code",
   "execution_count": 587,
   "metadata": {},
   "outputs": [
    {
     "data": {
      "text/plain": [
       "[('cp_asympt', 0.10577280770523095),\n",
       " ('thalach', 0.10425522882282302),\n",
       " ('ca', 0.10424045940029966),\n",
       " ('thal_norm', 0.10081743163868219),\n",
       " ('oldpeak', 0.08870086534719865),\n",
       " ('chol', 0.08022914969365642),\n",
       " ('age', 0.07668987577289489),\n",
       " ('thal_rev', 0.07057256854644561),\n",
       " ('trestbps', 0.06898128801273704),\n",
       " ('slope_up', 0.043611587297471756),\n",
       " ('exang_true', 0.040114982655945),\n",
       " ('slope_flat', 0.02707155076937926),\n",
       " ('sex', 0.020756491535999767),\n",
       " ('cp_notang', 0.019065639958351262),\n",
       " ('restecg_norm', 0.015563655578814997),\n",
       " ('restecg_hyp', 0.013917548911638492),\n",
       " ('cp_angina', 0.011490366675873925),\n",
       " ('fbs', 0.008148501676557457)]"
      ]
     },
     "execution_count": 587,
     "metadata": {},
     "output_type": "execute_result"
    }
   ],
   "source": [
    "sorted(list(zip(feature, imp)), key = lambda x: x[1], reverse=True)"
   ]
  },
  {
   "cell_type": "code",
   "execution_count": 570,
   "metadata": {},
   "outputs": [
    {
     "name": "stdout",
     "output_type": "stream",
     "text": [
      "Index(['age', 'trestbps', 'chol', 'thalach', 'oldpeak', 'ca', 'cp_asympt',\n",
      "       'thal_norm', 'thal_rev'],\n",
      "      dtype='object')\n"
     ]
    }
   ],
   "source": [
    "print(sel_features)"
   ]
  }
 ],
 "metadata": {
  "kernelspec": {
   "display_name": "Python 3",
   "language": "python",
   "name": "python3"
  },
  "language_info": {
   "codemirror_mode": {
    "name": "ipython",
    "version": 3
   },
   "file_extension": ".py",
   "mimetype": "text/x-python",
   "name": "python",
   "nbconvert_exporter": "python",
   "pygments_lexer": "ipython3",
   "version": "3.5.6"
  }
 },
 "nbformat": 4,
 "nbformat_minor": 2
}
